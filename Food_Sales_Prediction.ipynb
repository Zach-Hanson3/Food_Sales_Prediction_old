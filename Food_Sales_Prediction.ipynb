{
  "nbformat": 4,
  "nbformat_minor": 0,
  "metadata": {
    "colab": {
      "provenance": [],
      "authorship_tag": "ABX9TyNI5CRAcaM0Y9hdpNyVIUp1",
      "include_colab_link": true
    },
    "kernelspec": {
      "name": "python3",
      "display_name": "Python 3"
    },
    "language_info": {
      "name": "python"
    }
  },
  "cells": [
    {
      "cell_type": "markdown",
      "metadata": {
        "id": "view-in-github",
        "colab_type": "text"
      },
      "source": [
        "<a href=\"https://colab.research.google.com/github/Zach-Hanson3/Food_Sales_Prediction/blob/main/Food_Sales_Prediction.ipynb\" target=\"_parent\"><img src=\"https://colab.research.google.com/assets/colab-badge.svg\" alt=\"Open In Colab\"/></a>"
      ]
    },
    {
      "cell_type": "markdown",
      "source": [
        "# <center> Project 1 - Part 1 </center>\n",
        "#### <center> Zach Hanson </center>"
      ],
      "metadata": {
        "id": "BnZ1nJU7qusw"
      }
    },
    {
      "cell_type": "markdown",
      "source": [
        "## Loading Data"
      ],
      "metadata": {
        "id": "OPETlqTkrP3c"
      }
    },
    {
      "cell_type": "code",
      "source": [
        "#Loading Data stuff here"
      ],
      "metadata": {
        "id": "onSOjrcnsET0"
      },
      "execution_count": null,
      "outputs": []
    },
    {
      "cell_type": "markdown",
      "source": [
        "## Data Cleaning"
      ],
      "metadata": {
        "id": "Xc-SUUylrYiI"
      }
    },
    {
      "cell_type": "code",
      "source": [
        "#Data Cleaning stuff here"
      ],
      "metadata": {
        "id": "wNA9CVYOsFJa"
      },
      "execution_count": null,
      "outputs": []
    },
    {
      "cell_type": "markdown",
      "source": [
        "## Exploratory Visuals"
      ],
      "metadata": {
        "id": "78QcCw4Rra3A"
      }
    },
    {
      "cell_type": "code",
      "source": [
        "#Exploratory Visuals stuff here"
      ],
      "metadata": {
        "id": "Xe42JyzYsFh7"
      },
      "execution_count": null,
      "outputs": []
    },
    {
      "cell_type": "markdown",
      "source": [
        "## Explanatory Visuals"
      ],
      "metadata": {
        "id": "y1UOnwtIrczT"
      }
    },
    {
      "cell_type": "code",
      "source": [
        "#Explanatory Visuals stuff here"
      ],
      "metadata": {
        "id": "CdpGOb6NsF3z"
      },
      "execution_count": null,
      "outputs": []
    }
  ]
}